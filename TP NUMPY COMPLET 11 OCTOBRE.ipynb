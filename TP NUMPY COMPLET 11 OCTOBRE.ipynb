{
 "cells": [
  {
   "cell_type": "code",
   "execution_count": 1,
   "id": "935edea3",
   "metadata": {},
   "outputs": [
    {
     "data": {
      "text/plain": [
       "3.141592653589793"
      ]
     },
     "execution_count": 1,
     "metadata": {},
     "output_type": "execute_result"
    }
   ],
   "source": [
    "import numpy as np\n",
    "np.pi"
   ]
  },
  {
   "cell_type": "code",
   "execution_count": 2,
   "id": "b481e5c0",
   "metadata": {},
   "outputs": [
    {
     "name": "stdout",
     "output_type": "stream",
     "text": [
      "[1 2 3 4]\n"
     ]
    }
   ],
   "source": [
    "t=np.array([1,2,3,4])\n",
    "print(t)"
   ]
  },
  {
   "cell_type": "code",
   "execution_count": 3,
   "id": "05f42326",
   "metadata": {},
   "outputs": [
    {
     "data": {
      "text/plain": [
       "numpy.ndarray"
      ]
     },
     "execution_count": 3,
     "metadata": {},
     "output_type": "execute_result"
    }
   ],
   "source": [
    "type(t)"
   ]
  },
  {
   "cell_type": "code",
   "execution_count": 4,
   "id": "26564a28",
   "metadata": {},
   "outputs": [
    {
     "data": {
      "text/plain": [
       "1"
      ]
     },
     "execution_count": 4,
     "metadata": {},
     "output_type": "execute_result"
    }
   ],
   "source": [
    "t[0]"
   ]
  },
  {
   "cell_type": "code",
   "execution_count": 5,
   "id": "73a551f5",
   "metadata": {},
   "outputs": [
    {
     "data": {
      "text/plain": [
       "2"
      ]
     },
     "execution_count": 5,
     "metadata": {},
     "output_type": "execute_result"
    }
   ],
   "source": [
    "t[1]"
   ]
  },
  {
   "cell_type": "code",
   "execution_count": 6,
   "id": "bff567b9",
   "metadata": {},
   "outputs": [
    {
     "data": {
      "text/plain": [
       "4"
      ]
     },
     "execution_count": 6,
     "metadata": {},
     "output_type": "execute_result"
    }
   ],
   "source": [
    "t[3]"
   ]
  },
  {
   "cell_type": "code",
   "execution_count": 7,
   "id": "adcf30a4",
   "metadata": {},
   "outputs": [
    {
     "data": {
      "text/plain": [
       "3"
      ]
     },
     "execution_count": 7,
     "metadata": {},
     "output_type": "execute_result"
    }
   ],
   "source": [
    "t[2]"
   ]
  },
  {
   "cell_type": "code",
   "execution_count": 8,
   "id": "76cf8785",
   "metadata": {},
   "outputs": [
    {
     "ename": "IndexError",
     "evalue": "index 4 is out of bounds for axis 0 with size 4",
     "output_type": "error",
     "traceback": [
      "\u001b[1;31m---------------------------------------------------------------------------\u001b[0m",
      "\u001b[1;31mIndexError\u001b[0m                                Traceback (most recent call last)",
      "\u001b[1;32m<ipython-input-8-5977d405d0f2>\u001b[0m in \u001b[0;36m<module>\u001b[1;34m\u001b[0m\n\u001b[1;32m----> 1\u001b[1;33m \u001b[0mt\u001b[0m\u001b[1;33m[\u001b[0m\u001b[1;36m4\u001b[0m\u001b[1;33m]\u001b[0m\u001b[1;33m\u001b[0m\u001b[1;33m\u001b[0m\u001b[0m\n\u001b[0m",
      "\u001b[1;31mIndexError\u001b[0m: index 4 is out of bounds for axis 0 with size 4"
     ]
    }
   ],
   "source": [
    "t[4]"
   ]
  },
  {
   "cell_type": "code",
   "execution_count": 9,
   "id": "a98a8e36",
   "metadata": {},
   "outputs": [
    {
     "data": {
      "text/plain": [
       "4"
      ]
     },
     "execution_count": 9,
     "metadata": {},
     "output_type": "execute_result"
    }
   ],
   "source": [
    "t[-1]"
   ]
  },
  {
   "cell_type": "code",
   "execution_count": 10,
   "id": "efb33afa",
   "metadata": {},
   "outputs": [
    {
     "data": {
      "text/plain": [
       "3"
      ]
     },
     "execution_count": 10,
     "metadata": {},
     "output_type": "execute_result"
    }
   ],
   "source": [
    "t[-2]"
   ]
  },
  {
   "cell_type": "code",
   "execution_count": 11,
   "id": "0c7896c4",
   "metadata": {},
   "outputs": [
    {
     "name": "stdout",
     "output_type": "stream",
     "text": [
      "[[1 2 3]\n",
      " [4 5 6]]\n"
     ]
    }
   ],
   "source": [
    "a=np.array([[1,2,3],[4,5,6]])\n",
    "print(a)"
   ]
  },
  {
   "cell_type": "code",
   "execution_count": 12,
   "id": "1fb44fca",
   "metadata": {},
   "outputs": [
    {
     "data": {
      "text/plain": [
       "1"
      ]
     },
     "execution_count": 12,
     "metadata": {},
     "output_type": "execute_result"
    }
   ],
   "source": [
    "a[0,0]"
   ]
  },
  {
   "cell_type": "code",
   "execution_count": 13,
   "id": "bd50d8b5",
   "metadata": {},
   "outputs": [
    {
     "data": {
      "text/plain": [
       "2"
      ]
     },
     "execution_count": 13,
     "metadata": {},
     "output_type": "execute_result"
    }
   ],
   "source": [
    "a[0,1]"
   ]
  },
  {
   "cell_type": "code",
   "execution_count": 14,
   "id": "13ec58ab",
   "metadata": {},
   "outputs": [
    {
     "data": {
      "text/plain": [
       "6"
      ]
     },
     "execution_count": 14,
     "metadata": {},
     "output_type": "execute_result"
    }
   ],
   "source": [
    "a[1,2]"
   ]
  },
  {
   "cell_type": "code",
   "execution_count": 15,
   "id": "87c86424",
   "metadata": {},
   "outputs": [
    {
     "name": "stdout",
     "output_type": "stream",
     "text": [
      "[ 1  3  5  7  9 11 13 15 17 19 21 23]\n"
     ]
    }
   ],
   "source": [
    "b=np.arange(1,25,2)\n",
    "print(b)"
   ]
  },
  {
   "cell_type": "code",
   "execution_count": 16,
   "id": "20925b6b",
   "metadata": {},
   "outputs": [
    {
     "name": "stdout",
     "output_type": "stream",
     "text": [
      "[ 2  4  6  8 10 12 14 16 18 20 22 24 26 28 30 32 34 36 38 40 42 44 46 48]\n"
     ]
    }
   ],
   "source": [
    "c=np.arange(2,50,2)\n",
    "print(c)"
   ]
  },
  {
   "cell_type": "code",
   "execution_count": 17,
   "id": "2fe99786",
   "metadata": {},
   "outputs": [
    {
     "name": "stdout",
     "output_type": "stream",
     "text": [
      "[ 1.          4.14159265  7.28318531 10.42477796 13.56637061 16.70796327\n",
      " 19.84955592 22.99114858 26.13274123 29.27433388 32.41592654 35.55751919\n",
      " 38.69911184 41.8407045  44.98229715 48.1238898  51.26548246 54.40707511\n",
      " 57.54866776 60.69026042]\n"
     ]
    }
   ],
   "source": [
    "d=np.arange(1,20*np.pi,np.pi)\n",
    "print(d)"
   ]
  },
  {
   "cell_type": "code",
   "execution_count": 18,
   "id": "440e6527",
   "metadata": {},
   "outputs": [
    {
     "data": {
      "text/plain": [
       "array([2.        , 2.77777778, 3.55555556, 4.33333333, 5.11111111,\n",
       "       5.88888889, 6.66666667, 7.44444444, 8.22222222, 9.        ])"
      ]
     },
     "execution_count": 18,
     "metadata": {},
     "output_type": "execute_result"
    }
   ],
   "source": [
    "np.linspace(2,9,10)"
   ]
  },
  {
   "cell_type": "code",
   "execution_count": 19,
   "id": "a669fd48",
   "metadata": {},
   "outputs": [
    {
     "data": {
      "text/plain": [
       "array([-2.        , -1.99198397, -1.98396794, -1.9759519 , -1.96793587,\n",
       "       -1.95991984, -1.95190381, -1.94388778, -1.93587174, -1.92785571,\n",
       "       -1.91983968, -1.91182365, -1.90380762, -1.89579158, -1.88777555,\n",
       "       -1.87975952, -1.87174349, -1.86372745, -1.85571142, -1.84769539,\n",
       "       -1.83967936, -1.83166333, -1.82364729, -1.81563126, -1.80761523,\n",
       "       -1.7995992 , -1.79158317, -1.78356713, -1.7755511 , -1.76753507,\n",
       "       -1.75951904, -1.75150301, -1.74348697, -1.73547094, -1.72745491,\n",
       "       -1.71943888, -1.71142285, -1.70340681, -1.69539078, -1.68737475,\n",
       "       -1.67935872, -1.67134269, -1.66332665, -1.65531062, -1.64729459,\n",
       "       -1.63927856, -1.63126253, -1.62324649, -1.61523046, -1.60721443,\n",
       "       -1.5991984 , -1.59118236, -1.58316633, -1.5751503 , -1.56713427,\n",
       "       -1.55911824, -1.5511022 , -1.54308617, -1.53507014, -1.52705411,\n",
       "       -1.51903808, -1.51102204, -1.50300601, -1.49498998, -1.48697395,\n",
       "       -1.47895792, -1.47094188, -1.46292585, -1.45490982, -1.44689379,\n",
       "       -1.43887776, -1.43086172, -1.42284569, -1.41482966, -1.40681363,\n",
       "       -1.3987976 , -1.39078156, -1.38276553, -1.3747495 , -1.36673347,\n",
       "       -1.35871743, -1.3507014 , -1.34268537, -1.33466934, -1.32665331,\n",
       "       -1.31863727, -1.31062124, -1.30260521, -1.29458918, -1.28657315,\n",
       "       -1.27855711, -1.27054108, -1.26252505, -1.25450902, -1.24649299,\n",
       "       -1.23847695, -1.23046092, -1.22244489, -1.21442886, -1.20641283,\n",
       "       -1.19839679, -1.19038076, -1.18236473, -1.1743487 , -1.16633267,\n",
       "       -1.15831663, -1.1503006 , -1.14228457, -1.13426854, -1.12625251,\n",
       "       -1.11823647, -1.11022044, -1.10220441, -1.09418838, -1.08617234,\n",
       "       -1.07815631, -1.07014028, -1.06212425, -1.05410822, -1.04609218,\n",
       "       -1.03807615, -1.03006012, -1.02204409, -1.01402806, -1.00601202,\n",
       "       -0.99799599, -0.98997996, -0.98196393, -0.9739479 , -0.96593186,\n",
       "       -0.95791583, -0.9498998 , -0.94188377, -0.93386774, -0.9258517 ,\n",
       "       -0.91783567, -0.90981964, -0.90180361, -0.89378758, -0.88577154,\n",
       "       -0.87775551, -0.86973948, -0.86172345, -0.85370741, -0.84569138,\n",
       "       -0.83767535, -0.82965932, -0.82164329, -0.81362725, -0.80561122,\n",
       "       -0.79759519, -0.78957916, -0.78156313, -0.77354709, -0.76553106,\n",
       "       -0.75751503, -0.749499  , -0.74148297, -0.73346693, -0.7254509 ,\n",
       "       -0.71743487, -0.70941884, -0.70140281, -0.69338677, -0.68537074,\n",
       "       -0.67735471, -0.66933868, -0.66132265, -0.65330661, -0.64529058,\n",
       "       -0.63727455, -0.62925852, -0.62124248, -0.61322645, -0.60521042,\n",
       "       -0.59719439, -0.58917836, -0.58116232, -0.57314629, -0.56513026,\n",
       "       -0.55711423, -0.5490982 , -0.54108216, -0.53306613, -0.5250501 ,\n",
       "       -0.51703407, -0.50901804, -0.501002  , -0.49298597, -0.48496994,\n",
       "       -0.47695391, -0.46893788, -0.46092184, -0.45290581, -0.44488978,\n",
       "       -0.43687375, -0.42885772, -0.42084168, -0.41282565, -0.40480962,\n",
       "       -0.39679359, -0.38877756, -0.38076152, -0.37274549, -0.36472946,\n",
       "       -0.35671343, -0.34869739, -0.34068136, -0.33266533, -0.3246493 ,\n",
       "       -0.31663327, -0.30861723, -0.3006012 , -0.29258517, -0.28456914,\n",
       "       -0.27655311, -0.26853707, -0.26052104, -0.25250501, -0.24448898,\n",
       "       -0.23647295, -0.22845691, -0.22044088, -0.21242485, -0.20440882,\n",
       "       -0.19639279, -0.18837675, -0.18036072, -0.17234469, -0.16432866,\n",
       "       -0.15631263, -0.14829659, -0.14028056, -0.13226453, -0.1242485 ,\n",
       "       -0.11623246, -0.10821643, -0.1002004 , -0.09218437, -0.08416834,\n",
       "       -0.0761523 , -0.06813627, -0.06012024, -0.05210421, -0.04408818,\n",
       "       -0.03607214, -0.02805611, -0.02004008, -0.01202405, -0.00400802,\n",
       "        0.00400802,  0.01202405,  0.02004008,  0.02805611,  0.03607214,\n",
       "        0.04408818,  0.05210421,  0.06012024,  0.06813627,  0.0761523 ,\n",
       "        0.08416834,  0.09218437,  0.1002004 ,  0.10821643,  0.11623246,\n",
       "        0.1242485 ,  0.13226453,  0.14028056,  0.14829659,  0.15631263,\n",
       "        0.16432866,  0.17234469,  0.18036072,  0.18837675,  0.19639279,\n",
       "        0.20440882,  0.21242485,  0.22044088,  0.22845691,  0.23647295,\n",
       "        0.24448898,  0.25250501,  0.26052104,  0.26853707,  0.27655311,\n",
       "        0.28456914,  0.29258517,  0.3006012 ,  0.30861723,  0.31663327,\n",
       "        0.3246493 ,  0.33266533,  0.34068136,  0.34869739,  0.35671343,\n",
       "        0.36472946,  0.37274549,  0.38076152,  0.38877756,  0.39679359,\n",
       "        0.40480962,  0.41282565,  0.42084168,  0.42885772,  0.43687375,\n",
       "        0.44488978,  0.45290581,  0.46092184,  0.46893788,  0.47695391,\n",
       "        0.48496994,  0.49298597,  0.501002  ,  0.50901804,  0.51703407,\n",
       "        0.5250501 ,  0.53306613,  0.54108216,  0.5490982 ,  0.55711423,\n",
       "        0.56513026,  0.57314629,  0.58116232,  0.58917836,  0.59719439,\n",
       "        0.60521042,  0.61322645,  0.62124248,  0.62925852,  0.63727455,\n",
       "        0.64529058,  0.65330661,  0.66132265,  0.66933868,  0.67735471,\n",
       "        0.68537074,  0.69338677,  0.70140281,  0.70941884,  0.71743487,\n",
       "        0.7254509 ,  0.73346693,  0.74148297,  0.749499  ,  0.75751503,\n",
       "        0.76553106,  0.77354709,  0.78156313,  0.78957916,  0.79759519,\n",
       "        0.80561122,  0.81362725,  0.82164329,  0.82965932,  0.83767535,\n",
       "        0.84569138,  0.85370741,  0.86172345,  0.86973948,  0.87775551,\n",
       "        0.88577154,  0.89378758,  0.90180361,  0.90981964,  0.91783567,\n",
       "        0.9258517 ,  0.93386774,  0.94188377,  0.9498998 ,  0.95791583,\n",
       "        0.96593186,  0.9739479 ,  0.98196393,  0.98997996,  0.99799599,\n",
       "        1.00601202,  1.01402806,  1.02204409,  1.03006012,  1.03807615,\n",
       "        1.04609218,  1.05410822,  1.06212425,  1.07014028,  1.07815631,\n",
       "        1.08617234,  1.09418838,  1.10220441,  1.11022044,  1.11823647,\n",
       "        1.12625251,  1.13426854,  1.14228457,  1.1503006 ,  1.15831663,\n",
       "        1.16633267,  1.1743487 ,  1.18236473,  1.19038076,  1.19839679,\n",
       "        1.20641283,  1.21442886,  1.22244489,  1.23046092,  1.23847695,\n",
       "        1.24649299,  1.25450902,  1.26252505,  1.27054108,  1.27855711,\n",
       "        1.28657315,  1.29458918,  1.30260521,  1.31062124,  1.31863727,\n",
       "        1.32665331,  1.33466934,  1.34268537,  1.3507014 ,  1.35871743,\n",
       "        1.36673347,  1.3747495 ,  1.38276553,  1.39078156,  1.3987976 ,\n",
       "        1.40681363,  1.41482966,  1.42284569,  1.43086172,  1.43887776,\n",
       "        1.44689379,  1.45490982,  1.46292585,  1.47094188,  1.47895792,\n",
       "        1.48697395,  1.49498998,  1.50300601,  1.51102204,  1.51903808,\n",
       "        1.52705411,  1.53507014,  1.54308617,  1.5511022 ,  1.55911824,\n",
       "        1.56713427,  1.5751503 ,  1.58316633,  1.59118236,  1.5991984 ,\n",
       "        1.60721443,  1.61523046,  1.62324649,  1.63126253,  1.63927856,\n",
       "        1.64729459,  1.65531062,  1.66332665,  1.67134269,  1.67935872,\n",
       "        1.68737475,  1.69539078,  1.70340681,  1.71142285,  1.71943888,\n",
       "        1.72745491,  1.73547094,  1.74348697,  1.75150301,  1.75951904,\n",
       "        1.76753507,  1.7755511 ,  1.78356713,  1.79158317,  1.7995992 ,\n",
       "        1.80761523,  1.81563126,  1.82364729,  1.83166333,  1.83967936,\n",
       "        1.84769539,  1.85571142,  1.86372745,  1.87174349,  1.87975952,\n",
       "        1.88777555,  1.89579158,  1.90380762,  1.91182365,  1.91983968,\n",
       "        1.92785571,  1.93587174,  1.94388778,  1.95190381,  1.95991984,\n",
       "        1.96793587,  1.9759519 ,  1.98396794,  1.99198397,  2.        ])"
      ]
     },
     "execution_count": 19,
     "metadata": {},
     "output_type": "execute_result"
    }
   ],
   "source": [
    "np.linspace(-2,2,500)"
   ]
  },
  {
   "cell_type": "code",
   "execution_count": 20,
   "id": "a8fcc546",
   "metadata": {},
   "outputs": [
    {
     "data": {
      "text/plain": [
       "5.0"
      ]
     },
     "execution_count": 20,
     "metadata": {},
     "output_type": "execute_result"
    }
   ],
   "source": [
    "np.trunc(5.6)"
   ]
  },
  {
   "cell_type": "code",
   "execution_count": 23,
   "id": "82a74935",
   "metadata": {},
   "outputs": [
    {
     "data": {
      "text/plain": [
       "5.42"
      ]
     },
     "execution_count": 23,
     "metadata": {},
     "output_type": "execute_result"
    }
   ],
   "source": [
    "np.around(5.4222266666,2)"
   ]
  },
  {
   "cell_type": "code",
   "execution_count": 27,
   "id": "34a3d792",
   "metadata": {},
   "outputs": [
    {
     "name": "stdout",
     "output_type": "stream",
     "text": [
      "[-5.         -4.97995992 -4.95991984 -4.93987976 -4.91983968 -4.8997996\n",
      " -4.87975952 -4.85971944 -4.83967936 -4.81963928 -4.7995992  -4.77955912\n",
      " -4.75951904 -4.73947896 -4.71943888 -4.6993988  -4.67935872 -4.65931864\n",
      " -4.63927856 -4.61923848 -4.5991984  -4.57915832 -4.55911824 -4.53907816\n",
      " -4.51903808 -4.498998   -4.47895792 -4.45891784 -4.43887776 -4.41883768\n",
      " -4.3987976  -4.37875752 -4.35871743 -4.33867735 -4.31863727 -4.29859719\n",
      " -4.27855711 -4.25851703 -4.23847695 -4.21843687 -4.19839679 -4.17835671\n",
      " -4.15831663 -4.13827655 -4.11823647 -4.09819639 -4.07815631 -4.05811623\n",
      " -4.03807615 -4.01803607 -3.99799599 -3.97795591 -3.95791583 -3.93787575\n",
      " -3.91783567 -3.89779559 -3.87775551 -3.85771543 -3.83767535 -3.81763527\n",
      " -3.79759519 -3.77755511 -3.75751503 -3.73747495 -3.71743487 -3.69739479\n",
      " -3.67735471 -3.65731463 -3.63727455 -3.61723447 -3.59719439 -3.57715431\n",
      " -3.55711423 -3.53707415 -3.51703407 -3.49699399 -3.47695391 -3.45691383\n",
      " -3.43687375 -3.41683367 -3.39679359 -3.37675351 -3.35671343 -3.33667335\n",
      " -3.31663327 -3.29659319 -3.27655311 -3.25651303 -3.23647295 -3.21643287\n",
      " -3.19639279 -3.17635271 -3.15631263 -3.13627255 -3.11623246 -3.09619238\n",
      " -3.0761523  -3.05611222 -3.03607214 -3.01603206 -2.99599198 -2.9759519\n",
      " -2.95591182 -2.93587174 -2.91583166 -2.89579158 -2.8757515  -2.85571142\n",
      " -2.83567134 -2.81563126 -2.79559118 -2.7755511  -2.75551102 -2.73547094\n",
      " -2.71543086 -2.69539078 -2.6753507  -2.65531062 -2.63527054 -2.61523046\n",
      " -2.59519038 -2.5751503  -2.55511022 -2.53507014 -2.51503006 -2.49498998\n",
      " -2.4749499  -2.45490982 -2.43486974 -2.41482966 -2.39478958 -2.3747495\n",
      " -2.35470942 -2.33466934 -2.31462926 -2.29458918 -2.2745491  -2.25450902\n",
      " -2.23446894 -2.21442886 -2.19438878 -2.1743487  -2.15430862 -2.13426854\n",
      " -2.11422846 -2.09418838 -2.0741483  -2.05410822 -2.03406814 -2.01402806\n",
      " -1.99398798 -1.9739479  -1.95390782 -1.93386774 -1.91382766 -1.89378758\n",
      " -1.87374749 -1.85370741 -1.83366733 -1.81362725 -1.79358717 -1.77354709\n",
      " -1.75350701 -1.73346693 -1.71342685 -1.69338677 -1.67334669 -1.65330661\n",
      " -1.63326653 -1.61322645 -1.59318637 -1.57314629 -1.55310621 -1.53306613\n",
      " -1.51302605 -1.49298597 -1.47294589 -1.45290581 -1.43286573 -1.41282565\n",
      " -1.39278557 -1.37274549 -1.35270541 -1.33266533 -1.31262525 -1.29258517\n",
      " -1.27254509 -1.25250501 -1.23246493 -1.21242485 -1.19238477 -1.17234469\n",
      " -1.15230461 -1.13226453 -1.11222445 -1.09218437 -1.07214429 -1.05210421\n",
      " -1.03206413 -1.01202405 -0.99198397 -0.97194389 -0.95190381 -0.93186373\n",
      " -0.91182365 -0.89178357 -0.87174349 -0.85170341 -0.83166333 -0.81162325\n",
      " -0.79158317 -0.77154309 -0.75150301 -0.73146293 -0.71142285 -0.69138277\n",
      " -0.67134269 -0.65130261 -0.63126253 -0.61122244 -0.59118236 -0.57114228\n",
      " -0.5511022  -0.53106212 -0.51102204 -0.49098196 -0.47094188 -0.4509018\n",
      " -0.43086172 -0.41082164 -0.39078156 -0.37074148 -0.3507014  -0.33066132\n",
      " -0.31062124 -0.29058116 -0.27054108 -0.250501   -0.23046092 -0.21042084\n",
      " -0.19038076 -0.17034068 -0.1503006  -0.13026052 -0.11022044 -0.09018036\n",
      " -0.07014028 -0.0501002  -0.03006012 -0.01002004  0.01002004  0.03006012\n",
      "  0.0501002   0.07014028  0.09018036  0.11022044  0.13026052  0.1503006\n",
      "  0.17034068  0.19038076  0.21042084  0.23046092  0.250501    0.27054108\n",
      "  0.29058116  0.31062124  0.33066132  0.3507014   0.37074148  0.39078156\n",
      "  0.41082164  0.43086172  0.4509018   0.47094188  0.49098196  0.51102204\n",
      "  0.53106212  0.5511022   0.57114228  0.59118236  0.61122244  0.63126253\n",
      "  0.65130261  0.67134269  0.69138277  0.71142285  0.73146293  0.75150301\n",
      "  0.77154309  0.79158317  0.81162325  0.83166333  0.85170341  0.87174349\n",
      "  0.89178357  0.91182365  0.93186373  0.95190381  0.97194389  0.99198397\n",
      "  1.01202405  1.03206413  1.05210421  1.07214429  1.09218437  1.11222445\n",
      "  1.13226453  1.15230461  1.17234469  1.19238477  1.21242485  1.23246493\n",
      "  1.25250501  1.27254509  1.29258517  1.31262525  1.33266533  1.35270541\n",
      "  1.37274549  1.39278557  1.41282565  1.43286573  1.45290581  1.47294589\n",
      "  1.49298597  1.51302605  1.53306613  1.55310621  1.57314629  1.59318637\n",
      "  1.61322645  1.63326653  1.65330661  1.67334669  1.69338677  1.71342685\n",
      "  1.73346693  1.75350701  1.77354709  1.79358717  1.81362725  1.83366733\n",
      "  1.85370741  1.87374749  1.89378758  1.91382766  1.93386774  1.95390782\n",
      "  1.9739479   1.99398798  2.01402806  2.03406814  2.05410822  2.0741483\n",
      "  2.09418838  2.11422846  2.13426854  2.15430862  2.1743487   2.19438878\n",
      "  2.21442886  2.23446894  2.25450902  2.2745491   2.29458918  2.31462926\n",
      "  2.33466934  2.35470942  2.3747495   2.39478958  2.41482966  2.43486974\n",
      "  2.45490982  2.4749499   2.49498998  2.51503006  2.53507014  2.55511022\n",
      "  2.5751503   2.59519038  2.61523046  2.63527054  2.65531062  2.6753507\n",
      "  2.69539078  2.71543086  2.73547094  2.75551102  2.7755511   2.79559118\n",
      "  2.81563126  2.83567134  2.85571142  2.8757515   2.89579158  2.91583166\n",
      "  2.93587174  2.95591182  2.9759519   2.99599198  3.01603206  3.03607214\n",
      "  3.05611222  3.0761523   3.09619238  3.11623246  3.13627255  3.15631263\n",
      "  3.17635271  3.19639279  3.21643287  3.23647295  3.25651303  3.27655311\n",
      "  3.29659319  3.31663327  3.33667335  3.35671343  3.37675351  3.39679359\n",
      "  3.41683367  3.43687375  3.45691383  3.47695391  3.49699399  3.51703407\n",
      "  3.53707415  3.55711423  3.57715431  3.59719439  3.61723447  3.63727455\n",
      "  3.65731463  3.67735471  3.69739479  3.71743487  3.73747495  3.75751503\n",
      "  3.77755511  3.79759519  3.81763527  3.83767535  3.85771543  3.87775551\n",
      "  3.89779559  3.91783567  3.93787575  3.95791583  3.97795591  3.99799599\n",
      "  4.01803607  4.03807615  4.05811623  4.07815631  4.09819639  4.11823647\n",
      "  4.13827655  4.15831663  4.17835671  4.19839679  4.21843687  4.23847695\n",
      "  4.25851703  4.27855711  4.29859719  4.31863727  4.33867735  4.35871743\n",
      "  4.37875752  4.3987976   4.41883768  4.43887776  4.45891784  4.47895792\n",
      "  4.498998    4.51903808  4.53907816  4.55911824  4.57915832  4.5991984\n",
      "  4.61923848  4.63927856  4.65931864  4.67935872  4.6993988   4.71943888\n",
      "  4.73947896  4.75951904  4.77955912  4.7995992   4.81963928  4.83967936\n",
      "  4.85971944  4.87975952  4.8997996   4.91983968  4.93987976  4.95991984\n",
      "  4.97995992  5.        ]\n"
     ]
    },
    {
     "data": {
      "image/png": "[encoded data removed]",
      "text/plain": [
       "<Figure size 432x288 with 1 Axes>"
      ]
     },
     "metadata": {
      "needs_background": "light"
     },
     "output_type": "display_data"
    }
   ],
   "source": [
    "import matplotlib.pyplot as plt\n",
    "x=np.linspace(-5,5,500)\n",
    "print(x)\n",
    "plt.plot(x,np.around(x,0),label=\"around(x,0)\")\n",
    "plt.plot(x,np.trunc(x),label=\"trunc(x)\")\n",
    "plt.legend()\n",
    "plt.show()"
   ]
  },
  {
   "cell_type": "code",
   "execution_count": 35,
   "id": "f8dd0bc6",
   "metadata": {},
   "outputs": [
    {
     "data": {
      "text/plain": [
       "array([[0.23565005, 0.76658259, 0.47383537, 0.19989386, 0.20880659,\n",
       "        0.1141992 ],\n",
       "       [0.20439777, 0.27369543, 0.24986767, 0.32775469, 0.71595618,\n",
       "        0.52008271],\n",
       "       [0.54026307, 0.35252044, 0.06600436, 0.04190557, 0.215596  ,\n",
       "        0.18663777],\n",
       "       [0.70800921, 0.09163691, 0.52341552, 0.07911557, 0.91057671,\n",
       "        0.21345276],\n",
       "       [0.89935836, 0.03082929, 0.72007404, 0.31254011, 0.80145721,\n",
       "        0.04324376],\n",
       "       [0.61379091, 0.98110495, 0.55458547, 0.49499993, 0.44933117,\n",
       "        0.70531293],\n",
       "       [0.20662657, 0.32720424, 0.09024557, 0.82685856, 0.00786765,\n",
       "        0.20765627]])"
      ]
     },
     "execution_count": 35,
     "metadata": {},
     "output_type": "execute_result"
    }
   ],
   "source": [
    "np.random.random((7,6))"
   ]
  },
  {
   "cell_type": "code",
   "execution_count": 38,
   "id": "2bfb4597",
   "metadata": {},
   "outputs": [
    {
     "data": {
      "image/png": "[encoded data removed]",
      "text/plain": [
       "<Figure size 432x288 with 1 Axes>"
      ]
     },
     "metadata": {
      "needs_background": "light"
     },
     "output_type": "display_data"
    }
   ],
   "source": [
    "plt.plot([1,4,6,7],[7,3,5,10])\n",
    "plt.show()"
   ]
  },
  {
   "cell_type": "code",
   "execution_count": 46,
   "id": "66657c1d",
   "metadata": {},
   "outputs": [
    {
     "name": "stdout",
     "output_type": "stream",
     "text": [
      "[0.         0.06346652 0.12693304 0.19039955 0.25386607 0.31733259\n",
      " 0.38079911 0.44426563 0.50773215 0.57119866 0.63466518 0.6981317\n",
      " 0.76159822 0.82506474 0.88853126 0.95199777 1.01546429 1.07893081\n",
      " 1.14239733 1.20586385 1.26933037 1.33279688 1.3962634  1.45972992\n",
      " 1.52319644 1.58666296 1.65012947 1.71359599 1.77706251 1.84052903\n",
      " 1.90399555 1.96746207 2.03092858 2.0943951  2.15786162 2.22132814\n",
      " 2.28479466 2.34826118 2.41172769 2.47519421 2.53866073 2.60212725\n",
      " 2.66559377 2.72906028 2.7925268  2.85599332 2.91945984 2.98292636\n",
      " 3.04639288 3.10985939 3.17332591 3.23679243 3.30025895 3.36372547\n",
      " 3.42719199 3.4906585  3.55412502 3.61759154 3.68105806 3.74452458\n",
      " 3.8079911  3.87145761 3.93492413 3.99839065 4.06185717 4.12532369\n",
      " 4.1887902  4.25225672 4.31572324 4.37918976 4.44265628 4.5061228\n",
      " 4.56958931 4.63305583 4.69652235 4.75998887 4.82345539 4.88692191\n",
      " 4.95038842 5.01385494 5.07732146 5.14078798 5.2042545  5.26772102\n",
      " 5.33118753 5.39465405 5.45812057 5.52158709 5.58505361 5.64852012\n",
      " 5.71198664 5.77545316 5.83891968 5.9023862  5.96585272 6.02931923\n",
      " 6.09278575 6.15625227 6.21971879 6.28318531]\n",
      "[ 1.          0.99798668  0.99195481  0.9819287   0.9679487   0.95007112\n",
      "  0.92836793  0.90292654  0.87384938  0.84125353  0.80527026  0.76604444\n",
      "  0.72373404  0.67850941  0.63055267  0.58005691  0.52722547  0.47227107\n",
      "  0.41541501  0.35688622  0.29692038  0.23575894  0.17364818  0.1108382\n",
      "  0.04758192 -0.01586596 -0.07924996 -0.14231484 -0.20480667 -0.26647381\n",
      " -0.32706796 -0.38634513 -0.44406661 -0.5        -0.55392006 -0.60560969\n",
      " -0.65486073 -0.70147489 -0.74526445 -0.78605309 -0.82367658 -0.85798341\n",
      " -0.88883545 -0.91610846 -0.93969262 -0.95949297 -0.97542979 -0.98743889\n",
      " -0.99547192 -0.99949654 -0.99949654 -0.99547192 -0.98743889 -0.97542979\n",
      " -0.95949297 -0.93969262 -0.91610846 -0.88883545 -0.85798341 -0.82367658\n",
      " -0.78605309 -0.74526445 -0.70147489 -0.65486073 -0.60560969 -0.55392006\n",
      " -0.5        -0.44406661 -0.38634513 -0.32706796 -0.26647381 -0.20480667\n",
      " -0.14231484 -0.07924996 -0.01586596  0.04758192  0.1108382   0.17364818\n",
      "  0.23575894  0.29692038  0.35688622  0.41541501  0.47227107  0.52722547\n",
      "  0.58005691  0.63055267  0.67850941  0.72373404  0.76604444  0.80527026\n",
      "  0.84125353  0.87384938  0.90292654  0.92836793  0.95007112  0.9679487\n",
      "  0.9819287   0.99195481  0.99798668  1.        ]\n"
     ]
    },
    {
     "data": {
      "image/png": "[encoded data removed]",
      "text/plain": [
       "<Figure size 432x288 with 1 Axes>"
      ]
     },
     "metadata": {
      "needs_background": "light"
     },
     "output_type": "display_data"
    }
   ],
   "source": [
    "x=np.linspace(0,2*np.pi,100)\n",
    "y=np.cos(x)\n",
    "print(x)\n",
    "print(y)\n",
    "plt.plot(x,y,label=\"cos(x)\")\n",
    "plt.legend()\n",
    "plt.xlabel(\"abscisses\")\n",
    "plt.ylabel(\"ordonnées\")\n",
    "plt.show()"
   ]
  },
  {
   "cell_type": "code",
   "execution_count": 47,
   "id": "3ae15650",
   "metadata": {},
   "outputs": [
    {
     "name": "stdout",
     "output_type": "stream",
     "text": [
      "[0.         0.06346652 0.12693304 0.19039955 0.25386607 0.31733259\n",
      " 0.38079911 0.44426563 0.50773215 0.57119866 0.63466518 0.6981317\n",
      " 0.76159822 0.82506474 0.88853126 0.95199777 1.01546429 1.07893081\n",
      " 1.14239733 1.20586385 1.26933037 1.33279688 1.3962634  1.45972992\n",
      " 1.52319644 1.58666296 1.65012947 1.71359599 1.77706251 1.84052903\n",
      " 1.90399555 1.96746207 2.03092858 2.0943951  2.15786162 2.22132814\n",
      " 2.28479466 2.34826118 2.41172769 2.47519421 2.53866073 2.60212725\n",
      " 2.66559377 2.72906028 2.7925268  2.85599332 2.91945984 2.98292636\n",
      " 3.04639288 3.10985939 3.17332591 3.23679243 3.30025895 3.36372547\n",
      " 3.42719199 3.4906585  3.55412502 3.61759154 3.68105806 3.74452458\n",
      " 3.8079911  3.87145761 3.93492413 3.99839065 4.06185717 4.12532369\n",
      " 4.1887902  4.25225672 4.31572324 4.37918976 4.44265628 4.5061228\n",
      " 4.56958931 4.63305583 4.69652235 4.75998887 4.82345539 4.88692191\n",
      " 4.95038842 5.01385494 5.07732146 5.14078798 5.2042545  5.26772102\n",
      " 5.33118753 5.39465405 5.45812057 5.52158709 5.58505361 5.64852012\n",
      " 5.71198664 5.77545316 5.83891968 5.9023862  5.96585272 6.02931923\n",
      " 6.09278575 6.15625227 6.21971879 6.28318531]\n",
      "[ 0.00000000e+00  6.34239197e-02  1.26592454e-01  1.89251244e-01\n",
      "  2.51147987e-01  3.12033446e-01  3.71662456e-01  4.29794912e-01\n",
      "  4.86196736e-01  5.40640817e-01  5.92907929e-01  6.42787610e-01\n",
      "  6.90079011e-01  7.34591709e-01  7.76146464e-01  8.14575952e-01\n",
      "  8.49725430e-01  8.81453363e-01  9.09631995e-01  9.34147860e-01\n",
      "  9.54902241e-01  9.71811568e-01  9.84807753e-01  9.93838464e-01\n",
      "  9.98867339e-01  9.99874128e-01  9.96854776e-01  9.89821442e-01\n",
      "  9.78802446e-01  9.63842159e-01  9.45000819e-01  9.22354294e-01\n",
      "  8.95993774e-01  8.66025404e-01  8.32569855e-01  7.95761841e-01\n",
      "  7.55749574e-01  7.12694171e-01  6.66769001e-01  6.18158986e-01\n",
      "  5.67059864e-01  5.13677392e-01  4.58226522e-01  4.00930535e-01\n",
      "  3.42020143e-01  2.81732557e-01  2.20310533e-01  1.58001396e-01\n",
      "  9.50560433e-02  3.17279335e-02 -3.17279335e-02 -9.50560433e-02\n",
      " -1.58001396e-01 -2.20310533e-01 -2.81732557e-01 -3.42020143e-01\n",
      " -4.00930535e-01 -4.58226522e-01 -5.13677392e-01 -5.67059864e-01\n",
      " -6.18158986e-01 -6.66769001e-01 -7.12694171e-01 -7.55749574e-01\n",
      " -7.95761841e-01 -8.32569855e-01 -8.66025404e-01 -8.95993774e-01\n",
      " -9.22354294e-01 -9.45000819e-01 -9.63842159e-01 -9.78802446e-01\n",
      " -9.89821442e-01 -9.96854776e-01 -9.99874128e-01 -9.98867339e-01\n",
      " -9.93838464e-01 -9.84807753e-01 -9.71811568e-01 -9.54902241e-01\n",
      " -9.34147860e-01 -9.09631995e-01 -8.81453363e-01 -8.49725430e-01\n",
      " -8.14575952e-01 -7.76146464e-01 -7.34591709e-01 -6.90079011e-01\n",
      " -6.42787610e-01 -5.92907929e-01 -5.40640817e-01 -4.86196736e-01\n",
      " -4.29794912e-01 -3.71662456e-01 -3.12033446e-01 -2.51147987e-01\n",
      " -1.89251244e-01 -1.26592454e-01 -6.34239197e-02 -2.44929360e-16]\n"
     ]
    },
    {
     "data": {
      "image/png": "[encoded data removed]",
      "text/plain": [
       "<Figure size 432x288 with 1 Axes>"
      ]
     },
     "metadata": {
      "needs_background": "light"
     },
     "output_type": "display_data"
    }
   ],
   "source": [
    "x=np.linspace(0,2*np.pi,100)\n",
    "y=np.sin(x)\n",
    "print(x)\n",
    "print(y)\n",
    "plt.plot(x,y,label=\"sin(x)\")\n",
    "plt.legend()\n",
    "plt.xlabel(\"abscisses\")\n",
    "plt.ylabel(\"ordonnées\")\n",
    "plt.show()"
   ]
  },
  {
   "cell_type": "code",
   "execution_count": 48,
   "id": "de668d95",
   "metadata": {},
   "outputs": [
    {
     "name": "stdout",
     "output_type": "stream",
     "text": [
      "[0.         0.06346652 0.12693304 0.19039955 0.25386607 0.31733259\n",
      " 0.38079911 0.44426563 0.50773215 0.57119866 0.63466518 0.6981317\n",
      " 0.76159822 0.82506474 0.88853126 0.95199777 1.01546429 1.07893081\n",
      " 1.14239733 1.20586385 1.26933037 1.33279688 1.3962634  1.45972992\n",
      " 1.52319644 1.58666296 1.65012947 1.71359599 1.77706251 1.84052903\n",
      " 1.90399555 1.96746207 2.03092858 2.0943951  2.15786162 2.22132814\n",
      " 2.28479466 2.34826118 2.41172769 2.47519421 2.53866073 2.60212725\n",
      " 2.66559377 2.72906028 2.7925268  2.85599332 2.91945984 2.98292636\n",
      " 3.04639288 3.10985939 3.17332591 3.23679243 3.30025895 3.36372547\n",
      " 3.42719199 3.4906585  3.55412502 3.61759154 3.68105806 3.74452458\n",
      " 3.8079911  3.87145761 3.93492413 3.99839065 4.06185717 4.12532369\n",
      " 4.1887902  4.25225672 4.31572324 4.37918976 4.44265628 4.5061228\n",
      " 4.56958931 4.63305583 4.69652235 4.75998887 4.82345539 4.88692191\n",
      " 4.95038842 5.01385494 5.07732146 5.14078798 5.2042545  5.26772102\n",
      " 5.33118753 5.39465405 5.45812057 5.52158709 5.58505361 5.64852012\n",
      " 5.71198664 5.77545316 5.83891968 5.9023862  5.96585272 6.02931923\n",
      " 6.09278575 6.15625227 6.21971879 6.28318531]\n",
      "[ 0.00000000e+00  6.34239197e-02  1.26592454e-01  1.89251244e-01\n",
      "  2.51147987e-01  3.12033446e-01  3.71662456e-01  4.29794912e-01\n",
      "  4.86196736e-01  5.40640817e-01  5.92907929e-01  6.42787610e-01\n",
      "  6.90079011e-01  7.34591709e-01  7.76146464e-01  8.14575952e-01\n",
      "  8.49725430e-01  8.81453363e-01  9.09631995e-01  9.34147860e-01\n",
      "  9.54902241e-01  9.71811568e-01  9.84807753e-01  9.93838464e-01\n",
      "  9.98867339e-01  9.99874128e-01  9.96854776e-01  9.89821442e-01\n",
      "  9.78802446e-01  9.63842159e-01  9.45000819e-01  9.22354294e-01\n",
      "  8.95993774e-01  8.66025404e-01  8.32569855e-01  7.95761841e-01\n",
      "  7.55749574e-01  7.12694171e-01  6.66769001e-01  6.18158986e-01\n",
      "  5.67059864e-01  5.13677392e-01  4.58226522e-01  4.00930535e-01\n",
      "  3.42020143e-01  2.81732557e-01  2.20310533e-01  1.58001396e-01\n",
      "  9.50560433e-02  3.17279335e-02 -3.17279335e-02 -9.50560433e-02\n",
      " -1.58001396e-01 -2.20310533e-01 -2.81732557e-01 -3.42020143e-01\n",
      " -4.00930535e-01 -4.58226522e-01 -5.13677392e-01 -5.67059864e-01\n",
      " -6.18158986e-01 -6.66769001e-01 -7.12694171e-01 -7.55749574e-01\n",
      " -7.95761841e-01 -8.32569855e-01 -8.66025404e-01 -8.95993774e-01\n",
      " -9.22354294e-01 -9.45000819e-01 -9.63842159e-01 -9.78802446e-01\n",
      " -9.89821442e-01 -9.96854776e-01 -9.99874128e-01 -9.98867339e-01\n",
      " -9.93838464e-01 -9.84807753e-01 -9.71811568e-01 -9.54902241e-01\n",
      " -9.34147860e-01 -9.09631995e-01 -8.81453363e-01 -8.49725430e-01\n",
      " -8.14575952e-01 -7.76146464e-01 -7.34591709e-01 -6.90079011e-01\n",
      " -6.42787610e-01 -5.92907929e-01 -5.40640817e-01 -4.86196736e-01\n",
      " -4.29794912e-01 -3.71662456e-01 -3.12033446e-01 -2.51147987e-01\n",
      " -1.89251244e-01 -1.26592454e-01 -6.34239197e-02 -2.44929360e-16]\n"
     ]
    },
    {
     "data": {
      "image/png": "[encoded data removed]",
      "text/plain": [
       "<Figure size 432x288 with 1 Axes>"
      ]
     },
     "metadata": {
      "needs_background": "light"
     },
     "output_type": "display_data"
    }
   ],
   "source": [
    "x=np.linspace(0,2*np.pi,100)\n",
    "y1=np.cos(x)\n",
    "y2=np.sin(x)\n",
    "print(x)\n",
    "print(y)\n",
    "plt.plot(x,y1,label=\"cos(x)\")\n",
    "plt.plot(x,y2,label=\"sin(x)\")\n",
    "plt.legend()\n",
    "plt.xlabel(\"abscisses\")\n",
    "plt.ylabel(\"ordonnées\")\n",
    "plt.show()"
   ]
  },
  {
   "cell_type": "code",
   "execution_count": 49,
   "id": "abda4d13",
   "metadata": {},
   "outputs": [
    {
     "name": "stdout",
     "output_type": "stream",
     "text": [
      "[0.         0.06346652 0.12693304 0.19039955 0.25386607 0.31733259\n",
      " 0.38079911 0.44426563 0.50773215 0.57119866 0.63466518 0.6981317\n",
      " 0.76159822 0.82506474 0.88853126 0.95199777 1.01546429 1.07893081\n",
      " 1.14239733 1.20586385 1.26933037 1.33279688 1.3962634  1.45972992\n",
      " 1.52319644 1.58666296 1.65012947 1.71359599 1.77706251 1.84052903\n",
      " 1.90399555 1.96746207 2.03092858 2.0943951  2.15786162 2.22132814\n",
      " 2.28479466 2.34826118 2.41172769 2.47519421 2.53866073 2.60212725\n",
      " 2.66559377 2.72906028 2.7925268  2.85599332 2.91945984 2.98292636\n",
      " 3.04639288 3.10985939 3.17332591 3.23679243 3.30025895 3.36372547\n",
      " 3.42719199 3.4906585  3.55412502 3.61759154 3.68105806 3.74452458\n",
      " 3.8079911  3.87145761 3.93492413 3.99839065 4.06185717 4.12532369\n",
      " 4.1887902  4.25225672 4.31572324 4.37918976 4.44265628 4.5061228\n",
      " 4.56958931 4.63305583 4.69652235 4.75998887 4.82345539 4.88692191\n",
      " 4.95038842 5.01385494 5.07732146 5.14078798 5.2042545  5.26772102\n",
      " 5.33118753 5.39465405 5.45812057 5.52158709 5.58505361 5.64852012\n",
      " 5.71198664 5.77545316 5.83891968 5.9023862  5.96585272 6.02931923\n",
      " 6.09278575 6.15625227 6.21971879 6.28318531]\n",
      "[ 0.00000000e+00  6.34239197e-02  1.26592454e-01  1.89251244e-01\n",
      "  2.51147987e-01  3.12033446e-01  3.71662456e-01  4.29794912e-01\n",
      "  4.86196736e-01  5.40640817e-01  5.92907929e-01  6.42787610e-01\n",
      "  6.90079011e-01  7.34591709e-01  7.76146464e-01  8.14575952e-01\n",
      "  8.49725430e-01  8.81453363e-01  9.09631995e-01  9.34147860e-01\n",
      "  9.54902241e-01  9.71811568e-01  9.84807753e-01  9.93838464e-01\n",
      "  9.98867339e-01  9.99874128e-01  9.96854776e-01  9.89821442e-01\n",
      "  9.78802446e-01  9.63842159e-01  9.45000819e-01  9.22354294e-01\n",
      "  8.95993774e-01  8.66025404e-01  8.32569855e-01  7.95761841e-01\n",
      "  7.55749574e-01  7.12694171e-01  6.66769001e-01  6.18158986e-01\n",
      "  5.67059864e-01  5.13677392e-01  4.58226522e-01  4.00930535e-01\n",
      "  3.42020143e-01  2.81732557e-01  2.20310533e-01  1.58001396e-01\n",
      "  9.50560433e-02  3.17279335e-02 -3.17279335e-02 -9.50560433e-02\n",
      " -1.58001396e-01 -2.20310533e-01 -2.81732557e-01 -3.42020143e-01\n",
      " -4.00930535e-01 -4.58226522e-01 -5.13677392e-01 -5.67059864e-01\n",
      " -6.18158986e-01 -6.66769001e-01 -7.12694171e-01 -7.55749574e-01\n",
      " -7.95761841e-01 -8.32569855e-01 -8.66025404e-01 -8.95993774e-01\n",
      " -9.22354294e-01 -9.45000819e-01 -9.63842159e-01 -9.78802446e-01\n",
      " -9.89821442e-01 -9.96854776e-01 -9.99874128e-01 -9.98867339e-01\n",
      " -9.93838464e-01 -9.84807753e-01 -9.71811568e-01 -9.54902241e-01\n",
      " -9.34147860e-01 -9.09631995e-01 -8.81453363e-01 -8.49725430e-01\n",
      " -8.14575952e-01 -7.76146464e-01 -7.34591709e-01 -6.90079011e-01\n",
      " -6.42787610e-01 -5.92907929e-01 -5.40640817e-01 -4.86196736e-01\n",
      " -4.29794912e-01 -3.71662456e-01 -3.12033446e-01 -2.51147987e-01\n",
      " -1.89251244e-01 -1.26592454e-01 -6.34239197e-02 -2.44929360e-16]\n"
     ]
    },
    {
     "data": {
      "image/png": "[encoded data removed]",
      "text/plain": [
       "<Figure size 432x288 with 1 Axes>"
      ]
     },
     "metadata": {
      "needs_background": "light"
     },
     "output_type": "display_data"
    }
   ],
   "source": [
    "x=np.linspace(0,2*np.pi,100)\n",
    "y1=np.cos(x)\n",
    "y2=np.sin(x)\n",
    "print(x)\n",
    "print(y)\n",
    "plt.plot(x,y1,\"r--\",label=\"cos(x)\")\n",
    "plt.plot(x,y2,\"b:o\",label=\"sin(x)\")\n",
    "plt.legend()\n",
    "plt.xlabel(\"abscisses\")\n",
    "plt.ylabel(\"ordonnées\")\n",
    "plt.show()"
   ]
  },
  {
   "cell_type": "code",
   "execution_count": null,
   "id": "278b8369",
   "metadata": {},
   "outputs": [],
   "source": []
  }
 ],
 "metadata": {
  "kernelspec": {
   "display_name": "Python 3",
   "language": "python",
   "name": "python3"
  },
  "language_info": {
   "codemirror_mode": {
    "name": "ipython",
    "version": 3
   },
   "file_extension": ".py",
   "mimetype": "text/x-python",
   "name": "python",
   "nbconvert_exporter": "python",
   "pygments_lexer": "ipython3",
   "version": "3.8.8"
  }
 },
 "nbformat": 4,
 "nbformat_minor": 5
}
